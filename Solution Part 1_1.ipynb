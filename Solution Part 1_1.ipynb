{
 "cells": [
  {
   "cell_type": "code",
   "execution_count": 1,
   "metadata": {},
   "outputs": [],
   "source": [
    "#!conda install seaborn"
   ]
  },
  {
   "cell_type": "code",
   "execution_count": 2,
   "metadata": {},
   "outputs": [],
   "source": [
    "import torch\n",
    "import torch.nn as nn\n",
    "import pandas as pd\n",
    "import numpy as np\n",
    "import matplotlib.pyplot as plt\n",
    "# import seaborn as sns"
   ]
  },
  {
   "cell_type": "markdown",
   "metadata": {},
   "source": [
    "### To-do\n",
    "&nbsp;&nbsp; 1. Pull in the data (This includes distance calculation) <br>\n",
    "&nbsp;&nbsp; 2. Run around with the categorical data and extract data from timestamped details <br>\n",
    "&nbsp;&nbsp; 3. Do basic exploratory analysis <br>\n",
    "&nbsp;&nbsp; 4. Create categorical data matrix and continuous data matrix <br>\n",
    "&nbsp;&nbsp; 5. Create tensors and embedding sizes for categorical data <br>\n",
    "&nbsp;&nbsp; 6. Create model, optimizer and criterion <br>\n",
    "&nbsp;&nbsp; 7. Build train model <br>\n",
    "&nbsp;&nbsp; 8. Run test <br>\n",
    "&nbsp;&nbsp; 9. Save model, load model <br>\n",
    "&nbsp;&nbsp;10. Create program to directly run data transformation and through model"
   ]
  },
  {
   "cell_type": "markdown",
   "metadata": {},
   "source": [
    "#### 1. Pull in the data"
   ]
  },
  {
   "cell_type": "code",
   "execution_count": 3,
   "metadata": {},
   "outputs": [],
   "source": [
    "df=pd.read_csv('..//Data//NYCTaxiFares.csv')"
   ]
  },
  {
   "cell_type": "code",
   "execution_count": 4,
   "metadata": {},
   "outputs": [
    {
     "data": {
      "text/html": [
       "<div>\n",
       "<style scoped>\n",
       "    .dataframe tbody tr th:only-of-type {\n",
       "        vertical-align: middle;\n",
       "    }\n",
       "\n",
       "    .dataframe tbody tr th {\n",
       "        vertical-align: top;\n",
       "    }\n",
       "\n",
       "    .dataframe thead th {\n",
       "        text-align: right;\n",
       "    }\n",
       "</style>\n",
       "<table border=\"1\" class=\"dataframe\">\n",
       "  <thead>\n",
       "    <tr style=\"text-align: right;\">\n",
       "      <th></th>\n",
       "      <th>pickup_datetime</th>\n",
       "      <th>fare_amount</th>\n",
       "      <th>fare_class</th>\n",
       "      <th>pickup_longitude</th>\n",
       "      <th>pickup_latitude</th>\n",
       "      <th>dropoff_longitude</th>\n",
       "      <th>dropoff_latitude</th>\n",
       "      <th>passenger_count</th>\n",
       "    </tr>\n",
       "  </thead>\n",
       "  <tbody>\n",
       "    <tr>\n",
       "      <th>0</th>\n",
       "      <td>2010-04-19 08:17:56 UTC</td>\n",
       "      <td>6.5</td>\n",
       "      <td>0</td>\n",
       "      <td>-73.992365</td>\n",
       "      <td>40.730521</td>\n",
       "      <td>-73.975499</td>\n",
       "      <td>40.744746</td>\n",
       "      <td>1</td>\n",
       "    </tr>\n",
       "    <tr>\n",
       "      <th>1</th>\n",
       "      <td>2010-04-17 15:43:53 UTC</td>\n",
       "      <td>6.9</td>\n",
       "      <td>0</td>\n",
       "      <td>-73.990078</td>\n",
       "      <td>40.740558</td>\n",
       "      <td>-73.974232</td>\n",
       "      <td>40.744114</td>\n",
       "      <td>1</td>\n",
       "    </tr>\n",
       "    <tr>\n",
       "      <th>2</th>\n",
       "      <td>2010-04-17 11:23:26 UTC</td>\n",
       "      <td>10.1</td>\n",
       "      <td>1</td>\n",
       "      <td>-73.994149</td>\n",
       "      <td>40.751118</td>\n",
       "      <td>-73.960064</td>\n",
       "      <td>40.766235</td>\n",
       "      <td>2</td>\n",
       "    </tr>\n",
       "    <tr>\n",
       "      <th>3</th>\n",
       "      <td>2010-04-11 21:25:03 UTC</td>\n",
       "      <td>8.9</td>\n",
       "      <td>0</td>\n",
       "      <td>-73.990485</td>\n",
       "      <td>40.756422</td>\n",
       "      <td>-73.971205</td>\n",
       "      <td>40.748192</td>\n",
       "      <td>1</td>\n",
       "    </tr>\n",
       "    <tr>\n",
       "      <th>4</th>\n",
       "      <td>2010-04-17 02:19:01 UTC</td>\n",
       "      <td>19.7</td>\n",
       "      <td>1</td>\n",
       "      <td>-73.990976</td>\n",
       "      <td>40.734202</td>\n",
       "      <td>-73.905956</td>\n",
       "      <td>40.743115</td>\n",
       "      <td>1</td>\n",
       "    </tr>\n",
       "  </tbody>\n",
       "</table>\n",
       "</div>"
      ],
      "text/plain": [
       "           pickup_datetime  fare_amount  fare_class  pickup_longitude  \\\n",
       "0  2010-04-19 08:17:56 UTC          6.5           0        -73.992365   \n",
       "1  2010-04-17 15:43:53 UTC          6.9           0        -73.990078   \n",
       "2  2010-04-17 11:23:26 UTC         10.1           1        -73.994149   \n",
       "3  2010-04-11 21:25:03 UTC          8.9           0        -73.990485   \n",
       "4  2010-04-17 02:19:01 UTC         19.7           1        -73.990976   \n",
       "\n",
       "   pickup_latitude  dropoff_longitude  dropoff_latitude  passenger_count  \n",
       "0        40.730521         -73.975499         40.744746                1  \n",
       "1        40.740558         -73.974232         40.744114                1  \n",
       "2        40.751118         -73.960064         40.766235                2  \n",
       "3        40.756422         -73.971205         40.748192                1  \n",
       "4        40.734202         -73.905956         40.743115                1  "
      ]
     },
     "execution_count": 4,
     "metadata": {},
     "output_type": "execute_result"
    }
   ],
   "source": [
    "df.head()"
   ]
  },
  {
   "cell_type": "code",
   "execution_count": 5,
   "metadata": {},
   "outputs": [],
   "source": [
    "def haversine_distance(df, lat1, long1, lat2, long2):\n",
    "    \"\"\"\n",
    "    Calculates the haversine distance between 2 sets of GPS coordinates in df\n",
    "    \"\"\"\n",
    "    r = 6371  # average radius of Earth in kilometers\n",
    "       \n",
    "    phi1 = np.radians(df[lat1])\n",
    "    phi2 = np.radians(df[lat2])\n",
    "    \n",
    "    delta_phi = np.radians(df[lat2]-df[lat1])\n",
    "    delta_lambda = np.radians(df[long2]-df[long1])\n",
    "     \n",
    "    a = np.sin(delta_phi/2)**2 + np.cos(phi1) * np.cos(phi2) * np.sin(delta_lambda/2)**2\n",
    "    c = 2 * np.arctan2(np.sqrt(a), np.sqrt(1-a))\n",
    "    d = (r * c) # in kilometers\n",
    "\n",
    "    return d"
   ]
  },
  {
   "cell_type": "code",
   "execution_count": 6,
   "metadata": {},
   "outputs": [],
   "source": [
    "df['distance_km']=haversine_distance(df,'pickup_latitude','pickup_longitude','dropoff_latitude','dropoff_longitude')"
   ]
  },
  {
   "cell_type": "code",
   "execution_count": 7,
   "metadata": {},
   "outputs": [
    {
     "data": {
      "text/html": [
       "<div>\n",
       "<style scoped>\n",
       "    .dataframe tbody tr th:only-of-type {\n",
       "        vertical-align: middle;\n",
       "    }\n",
       "\n",
       "    .dataframe tbody tr th {\n",
       "        vertical-align: top;\n",
       "    }\n",
       "\n",
       "    .dataframe thead th {\n",
       "        text-align: right;\n",
       "    }\n",
       "</style>\n",
       "<table border=\"1\" class=\"dataframe\">\n",
       "  <thead>\n",
       "    <tr style=\"text-align: right;\">\n",
       "      <th></th>\n",
       "      <th>pickup_datetime</th>\n",
       "      <th>fare_amount</th>\n",
       "      <th>fare_class</th>\n",
       "      <th>pickup_longitude</th>\n",
       "      <th>pickup_latitude</th>\n",
       "      <th>dropoff_longitude</th>\n",
       "      <th>dropoff_latitude</th>\n",
       "      <th>passenger_count</th>\n",
       "      <th>distance_km</th>\n",
       "    </tr>\n",
       "  </thead>\n",
       "  <tbody>\n",
       "    <tr>\n",
       "      <th>0</th>\n",
       "      <td>2010-04-19 08:17:56 UTC</td>\n",
       "      <td>6.5</td>\n",
       "      <td>0</td>\n",
       "      <td>-73.992365</td>\n",
       "      <td>40.730521</td>\n",
       "      <td>-73.975499</td>\n",
       "      <td>40.744746</td>\n",
       "      <td>1</td>\n",
       "      <td>2.126312</td>\n",
       "    </tr>\n",
       "    <tr>\n",
       "      <th>1</th>\n",
       "      <td>2010-04-17 15:43:53 UTC</td>\n",
       "      <td>6.9</td>\n",
       "      <td>0</td>\n",
       "      <td>-73.990078</td>\n",
       "      <td>40.740558</td>\n",
       "      <td>-73.974232</td>\n",
       "      <td>40.744114</td>\n",
       "      <td>1</td>\n",
       "      <td>1.392307</td>\n",
       "    </tr>\n",
       "    <tr>\n",
       "      <th>2</th>\n",
       "      <td>2010-04-17 11:23:26 UTC</td>\n",
       "      <td>10.1</td>\n",
       "      <td>1</td>\n",
       "      <td>-73.994149</td>\n",
       "      <td>40.751118</td>\n",
       "      <td>-73.960064</td>\n",
       "      <td>40.766235</td>\n",
       "      <td>2</td>\n",
       "      <td>3.326763</td>\n",
       "    </tr>\n",
       "    <tr>\n",
       "      <th>3</th>\n",
       "      <td>2010-04-11 21:25:03 UTC</td>\n",
       "      <td>8.9</td>\n",
       "      <td>0</td>\n",
       "      <td>-73.990485</td>\n",
       "      <td>40.756422</td>\n",
       "      <td>-73.971205</td>\n",
       "      <td>40.748192</td>\n",
       "      <td>1</td>\n",
       "      <td>1.864129</td>\n",
       "    </tr>\n",
       "    <tr>\n",
       "      <th>4</th>\n",
       "      <td>2010-04-17 02:19:01 UTC</td>\n",
       "      <td>19.7</td>\n",
       "      <td>1</td>\n",
       "      <td>-73.990976</td>\n",
       "      <td>40.734202</td>\n",
       "      <td>-73.905956</td>\n",
       "      <td>40.743115</td>\n",
       "      <td>1</td>\n",
       "      <td>7.231321</td>\n",
       "    </tr>\n",
       "  </tbody>\n",
       "</table>\n",
       "</div>"
      ],
      "text/plain": [
       "           pickup_datetime  fare_amount  fare_class  pickup_longitude  \\\n",
       "0  2010-04-19 08:17:56 UTC          6.5           0        -73.992365   \n",
       "1  2010-04-17 15:43:53 UTC          6.9           0        -73.990078   \n",
       "2  2010-04-17 11:23:26 UTC         10.1           1        -73.994149   \n",
       "3  2010-04-11 21:25:03 UTC          8.9           0        -73.990485   \n",
       "4  2010-04-17 02:19:01 UTC         19.7           1        -73.990976   \n",
       "\n",
       "   pickup_latitude  dropoff_longitude  dropoff_latitude  passenger_count  \\\n",
       "0        40.730521         -73.975499         40.744746                1   \n",
       "1        40.740558         -73.974232         40.744114                1   \n",
       "2        40.751118         -73.960064         40.766235                2   \n",
       "3        40.756422         -73.971205         40.748192                1   \n",
       "4        40.734202         -73.905956         40.743115                1   \n",
       "\n",
       "   distance_km  \n",
       "0     2.126312  \n",
       "1     1.392307  \n",
       "2     3.326763  \n",
       "3     1.864129  \n",
       "4     7.231321  "
      ]
     },
     "execution_count": 7,
     "metadata": {},
     "output_type": "execute_result"
    }
   ],
   "source": [
    "df.head()"
   ]
  },
  {
   "cell_type": "markdown",
   "metadata": {},
   "source": [
    "#### 2. Run around with the categorical data and extract data from timestamped details"
   ]
  },
  {
   "cell_type": "code",
   "execution_count": 8,
   "metadata": {},
   "outputs": [],
   "source": [
    "df['pickup_datetime']=pd.to_datetime(df['pickup_datetime'])"
   ]
  },
  {
   "cell_type": "code",
   "execution_count": 9,
   "metadata": {},
   "outputs": [
    {
     "data": {
      "text/plain": [
       "0   2010-04-19 08:17:56+00:00\n",
       "1   2010-04-17 15:43:53+00:00\n",
       "2   2010-04-17 11:23:26+00:00\n",
       "3   2010-04-11 21:25:03+00:00\n",
       "4   2010-04-17 02:19:01+00:00\n",
       "Name: pickup_datetime, dtype: datetime64[ns, UTC]"
      ]
     },
     "execution_count": 9,
     "metadata": {},
     "output_type": "execute_result"
    }
   ],
   "source": [
    "df['pickup_datetime'][:5]"
   ]
  },
  {
   "cell_type": "code",
   "execution_count": 10,
   "metadata": {},
   "outputs": [],
   "source": [
    "#converting EST to NewYork time since all the data is taken from NYC\n",
    "df['date_timeEST']=df['pickup_datetime']-pd.Timedelta(hours=4)"
   ]
  },
  {
   "cell_type": "code",
   "execution_count": 11,
   "metadata": {},
   "outputs": [],
   "source": [
    "#Creating various columns that are extracted data from the timestamp\n",
    "df['hours']=df['date_timeEST'].dt.hour\n",
    "df['weekday']=df['date_timeEST'].dt.strftime('%a')\n",
    "df['AM_PM']=np.where(df['hours']<12,\"AM\",\"PM\")"
   ]
  },
  {
   "cell_type": "code",
   "execution_count": 12,
   "metadata": {},
   "outputs": [
    {
     "data": {
      "text/html": [
       "<div>\n",
       "<style scoped>\n",
       "    .dataframe tbody tr th:only-of-type {\n",
       "        vertical-align: middle;\n",
       "    }\n",
       "\n",
       "    .dataframe tbody tr th {\n",
       "        vertical-align: top;\n",
       "    }\n",
       "\n",
       "    .dataframe thead th {\n",
       "        text-align: right;\n",
       "    }\n",
       "</style>\n",
       "<table border=\"1\" class=\"dataframe\">\n",
       "  <thead>\n",
       "    <tr style=\"text-align: right;\">\n",
       "      <th></th>\n",
       "      <th>pickup_datetime</th>\n",
       "      <th>fare_amount</th>\n",
       "      <th>fare_class</th>\n",
       "      <th>pickup_longitude</th>\n",
       "      <th>pickup_latitude</th>\n",
       "      <th>dropoff_longitude</th>\n",
       "      <th>dropoff_latitude</th>\n",
       "      <th>passenger_count</th>\n",
       "      <th>distance_km</th>\n",
       "      <th>date_timeEST</th>\n",
       "      <th>hours</th>\n",
       "      <th>weekday</th>\n",
       "      <th>AM_PM</th>\n",
       "    </tr>\n",
       "  </thead>\n",
       "  <tbody>\n",
       "    <tr>\n",
       "      <th>0</th>\n",
       "      <td>2010-04-19 08:17:56+00:00</td>\n",
       "      <td>6.5</td>\n",
       "      <td>0</td>\n",
       "      <td>-73.992365</td>\n",
       "      <td>40.730521</td>\n",
       "      <td>-73.975499</td>\n",
       "      <td>40.744746</td>\n",
       "      <td>1</td>\n",
       "      <td>2.126312</td>\n",
       "      <td>2010-04-19 04:17:56+00:00</td>\n",
       "      <td>4</td>\n",
       "      <td>Mon</td>\n",
       "      <td>AM</td>\n",
       "    </tr>\n",
       "    <tr>\n",
       "      <th>1</th>\n",
       "      <td>2010-04-17 15:43:53+00:00</td>\n",
       "      <td>6.9</td>\n",
       "      <td>0</td>\n",
       "      <td>-73.990078</td>\n",
       "      <td>40.740558</td>\n",
       "      <td>-73.974232</td>\n",
       "      <td>40.744114</td>\n",
       "      <td>1</td>\n",
       "      <td>1.392307</td>\n",
       "      <td>2010-04-17 11:43:53+00:00</td>\n",
       "      <td>11</td>\n",
       "      <td>Sat</td>\n",
       "      <td>AM</td>\n",
       "    </tr>\n",
       "    <tr>\n",
       "      <th>2</th>\n",
       "      <td>2010-04-17 11:23:26+00:00</td>\n",
       "      <td>10.1</td>\n",
       "      <td>1</td>\n",
       "      <td>-73.994149</td>\n",
       "      <td>40.751118</td>\n",
       "      <td>-73.960064</td>\n",
       "      <td>40.766235</td>\n",
       "      <td>2</td>\n",
       "      <td>3.326763</td>\n",
       "      <td>2010-04-17 07:23:26+00:00</td>\n",
       "      <td>7</td>\n",
       "      <td>Sat</td>\n",
       "      <td>AM</td>\n",
       "    </tr>\n",
       "    <tr>\n",
       "      <th>3</th>\n",
       "      <td>2010-04-11 21:25:03+00:00</td>\n",
       "      <td>8.9</td>\n",
       "      <td>0</td>\n",
       "      <td>-73.990485</td>\n",
       "      <td>40.756422</td>\n",
       "      <td>-73.971205</td>\n",
       "      <td>40.748192</td>\n",
       "      <td>1</td>\n",
       "      <td>1.864129</td>\n",
       "      <td>2010-04-11 17:25:03+00:00</td>\n",
       "      <td>17</td>\n",
       "      <td>Sun</td>\n",
       "      <td>PM</td>\n",
       "    </tr>\n",
       "    <tr>\n",
       "      <th>4</th>\n",
       "      <td>2010-04-17 02:19:01+00:00</td>\n",
       "      <td>19.7</td>\n",
       "      <td>1</td>\n",
       "      <td>-73.990976</td>\n",
       "      <td>40.734202</td>\n",
       "      <td>-73.905956</td>\n",
       "      <td>40.743115</td>\n",
       "      <td>1</td>\n",
       "      <td>7.231321</td>\n",
       "      <td>2010-04-16 22:19:01+00:00</td>\n",
       "      <td>22</td>\n",
       "      <td>Fri</td>\n",
       "      <td>PM</td>\n",
       "    </tr>\n",
       "  </tbody>\n",
       "</table>\n",
       "</div>"
      ],
      "text/plain": [
       "            pickup_datetime  fare_amount  fare_class  pickup_longitude  \\\n",
       "0 2010-04-19 08:17:56+00:00          6.5           0        -73.992365   \n",
       "1 2010-04-17 15:43:53+00:00          6.9           0        -73.990078   \n",
       "2 2010-04-17 11:23:26+00:00         10.1           1        -73.994149   \n",
       "3 2010-04-11 21:25:03+00:00          8.9           0        -73.990485   \n",
       "4 2010-04-17 02:19:01+00:00         19.7           1        -73.990976   \n",
       "\n",
       "   pickup_latitude  dropoff_longitude  dropoff_latitude  passenger_count  \\\n",
       "0        40.730521         -73.975499         40.744746                1   \n",
       "1        40.740558         -73.974232         40.744114                1   \n",
       "2        40.751118         -73.960064         40.766235                2   \n",
       "3        40.756422         -73.971205         40.748192                1   \n",
       "4        40.734202         -73.905956         40.743115                1   \n",
       "\n",
       "   distance_km              date_timeEST  hours weekday AM_PM  \n",
       "0     2.126312 2010-04-19 04:17:56+00:00      4     Mon    AM  \n",
       "1     1.392307 2010-04-17 11:43:53+00:00     11     Sat    AM  \n",
       "2     3.326763 2010-04-17 07:23:26+00:00      7     Sat    AM  \n",
       "3     1.864129 2010-04-11 17:25:03+00:00     17     Sun    PM  \n",
       "4     7.231321 2010-04-16 22:19:01+00:00     22     Fri    PM  "
      ]
     },
     "execution_count": 12,
     "metadata": {},
     "output_type": "execute_result"
    }
   ],
   "source": [
    "df.head()"
   ]
  },
  {
   "cell_type": "markdown",
   "metadata": {},
   "source": [
    "#### 3. Data Exploration"
   ]
  },
  {
   "cell_type": "code",
   "execution_count": 13,
   "metadata": {},
   "outputs": [],
   "source": [
    "df_cont=df.copy()\n",
    "df_cont.drop(['pickup_datetime','pickup_longitude','pickup_latitude','dropoff_longitude','dropoff_latitude','fare_class','hours','weekday','AM_PM'],axis=1,inplace=True)"
   ]
  },
  {
   "cell_type": "code",
   "execution_count": 14,
   "metadata": {},
   "outputs": [
    {
     "data": {
      "text/html": [
       "<div>\n",
       "<style scoped>\n",
       "    .dataframe tbody tr th:only-of-type {\n",
       "        vertical-align: middle;\n",
       "    }\n",
       "\n",
       "    .dataframe tbody tr th {\n",
       "        vertical-align: top;\n",
       "    }\n",
       "\n",
       "    .dataframe thead th {\n",
       "        text-align: right;\n",
       "    }\n",
       "</style>\n",
       "<table border=\"1\" class=\"dataframe\">\n",
       "  <thead>\n",
       "    <tr style=\"text-align: right;\">\n",
       "      <th></th>\n",
       "      <th>fare_amount</th>\n",
       "      <th>passenger_count</th>\n",
       "      <th>distance_km</th>\n",
       "    </tr>\n",
       "  </thead>\n",
       "  <tbody>\n",
       "    <tr>\n",
       "      <th>fare_amount</th>\n",
       "      <td>1.000000</td>\n",
       "      <td>0.034072</td>\n",
       "      <td>0.896157</td>\n",
       "    </tr>\n",
       "    <tr>\n",
       "      <th>passenger_count</th>\n",
       "      <td>0.034072</td>\n",
       "      <td>1.000000</td>\n",
       "      <td>0.023100</td>\n",
       "    </tr>\n",
       "    <tr>\n",
       "      <th>distance_km</th>\n",
       "      <td>0.896157</td>\n",
       "      <td>0.023100</td>\n",
       "      <td>1.000000</td>\n",
       "    </tr>\n",
       "  </tbody>\n",
       "</table>\n",
       "</div>"
      ],
      "text/plain": [
       "                 fare_amount  passenger_count  distance_km\n",
       "fare_amount         1.000000         0.034072     0.896157\n",
       "passenger_count     0.034072         1.000000     0.023100\n",
       "distance_km         0.896157         0.023100     1.000000"
      ]
     },
     "execution_count": 14,
     "metadata": {},
     "output_type": "execute_result"
    }
   ],
   "source": [
    "#correlation of all significant continuous variables\n",
    "df_cont.corr()"
   ]
  },
  {
   "cell_type": "code",
   "execution_count": 15,
   "metadata": {},
   "outputs": [
    {
     "data": {
      "image/png": "[encoded data removed]",
      "text/plain": [
       "<Figure size 432x288 with 1 Axes>"
      ]
     },
     "metadata": {
      "needs_background": "light"
     },
     "output_type": "display_data"
    },
    {
     "data": {
      "image/png": "[encoded data removed]",
      "text/plain": [
       "<Figure size 432x288 with 1 Axes>"
      ]
     },
     "metadata": {
      "needs_background": "light"
     },
     "output_type": "display_data"
    },
    {
     "data": {
      "image/png": "[encoded data removed]",
      "text/plain": [
       "<Figure size 432x288 with 1 Axes>"
      ]
     },
     "metadata": {
      "needs_background": "light"
     },
     "output_type": "display_data"
    },
    {
     "data": {
      "image/png": "[encoded data removed]",
      "text/plain": [
       "<Figure size 432x288 with 1 Axes>"
      ]
     },
     "metadata": {
      "needs_background": "light"
     },
     "output_type": "display_data"
    }
   ],
   "source": [
    "#Distribution of data of all continuous variables\n",
    "for cont in df_cont.columns:\n",
    "    plt.hist(df[cont])\n",
    "    plt.xlabel('X-Axis')\n",
    "    plt.ylabel('Y-Axis')\n",
    "    plt.title(cont)\n",
    "    plt.show()"
   ]
  },
  {
   "cell_type": "code",
   "execution_count": 16,
   "metadata": {},
   "outputs": [],
   "source": [
    "df_cat=df.copy()\n",
    "df_cat.drop(['fare_amount','passenger_count','distance_km'],axis=1,inplace=True)"
   ]
  },
  {
   "cell_type": "code",
   "execution_count": 17,
   "metadata": {},
   "outputs": [
    {
     "data": {
      "image/png": "[encoded data removed]",
      "text/plain": [
       "<Figure size 432x288 with 1 Axes>"
      ]
     },
     "metadata": {
      "needs_background": "light"
     },
     "output_type": "display_data"
    },
    {
     "data": {
      "image/png": "[encoded data removed]",
      "text/plain": [
       "<Figure size 432x288 with 1 Axes>"
      ]
     },
     "metadata": {
      "needs_background": "light"
     },
     "output_type": "display_data"
    },
    {
     "data": {
      "image/png": "[encoded data removed]",
      "text/plain": [
       "<Figure size 432x288 with 1 Axes>"
      ]
     },
     "metadata": {
      "needs_background": "light"
     },
     "output_type": "display_data"
    },
    {
     "data": {
      "image/png": "[encoded data removed]",
      "text/plain": [
       "<Figure size 432x288 with 1 Axes>"
      ]
     },
     "metadata": {
      "needs_background": "light"
     },
     "output_type": "display_data"
    },
    {
     "data": {
      "image/png": "[encoded data removed]",
      "text/plain": [
       "<Figure size 432x288 with 1 Axes>"
      ]
     },
     "metadata": {
      "needs_background": "light"
     },
     "output_type": "display_data"
    },
    {
     "data": {
      "image/png": "[encoded data removed]",
      "text/plain": [
       "<Figure size 432x288 with 1 Axes>"
      ]
     },
     "metadata": {
      "needs_background": "light"
     },
     "output_type": "display_data"
    },
    {
     "data": {
      "image/png": "[encoded data removed]",
      "text/plain": [
       "<Figure size 432x288 with 1 Axes>"
      ]
     },
     "metadata": {
      "needs_background": "light"
     },
     "output_type": "display_data"
    },
    {
     "data": {
      "image/png": "[encoded data removed]",
      "text/plain": [
       "<Figure size 432x288 with 1 Axes>"
      ]
     },
     "metadata": {
      "needs_background": "light"
     },
     "output_type": "display_data"
    },
    {
     "data": {
      "image/png": "[encoded data removed]",
      "text/plain": [
       "<Figure size 432x288 with 1 Axes>"
      ]
     },
     "metadata": {
      "needs_background": "light"
     },
     "output_type": "display_data"
    },
    {
     "data": {
      "image/png": "[encoded data removed]",
      "text/plain": [
       "<Figure size 432x288 with 1 Axes>"
      ]
     },
     "metadata": {
      "needs_background": "light"
     },
     "output_type": "display_data"
    }
   ],
   "source": [
    "#Distribution of data of all continuous variables\n",
    "for cat in df_cat.columns:\n",
    "    plt.hist(df[cat])\n",
    "    plt.xlabel('X-Axis')\n",
    "    plt.ylabel('Y-Axis')\n",
    "    plt.title(cat)\n",
    "    plt.show()"
   ]
  },
  {
   "cell_type": "markdown",
   "metadata": {},
   "source": [
    "#### 4. Create categorical data matrix and continuous data matrix"
   ]
  },
  {
   "cell_type": "code",
   "execution_count": 18,
   "metadata": {},
   "outputs": [
    {
     "data": {
      "text/plain": [
       "Index(['pickup_datetime', 'fare_amount', 'fare_class', 'pickup_longitude',\n",
       "       'pickup_latitude', 'dropoff_longitude', 'dropoff_latitude',\n",
       "       'passenger_count', 'distance_km', 'date_timeEST', 'hours', 'weekday',\n",
       "       'AM_PM'],\n",
       "      dtype='object')"
      ]
     },
     "execution_count": 18,
     "metadata": {},
     "output_type": "execute_result"
    }
   ],
   "source": [
    "df.columns"
   ]
  },
  {
   "cell_type": "code",
   "execution_count": 19,
   "metadata": {},
   "outputs": [],
   "source": [
    "#Creating an index of all categorical columns in index\n",
    "cats=['hours','weekday','AM_PM']"
   ]
  },
  {
   "cell_type": "code",
   "execution_count": 20,
   "metadata": {},
   "outputs": [],
   "source": [
    "#To use [category dtype].cat.codes, convert all non continuous objects to 'category' codes\n",
    "for cat in cats:\n",
    "    df[cat]=df[cat].astype('category')"
   ]
  },
  {
   "cell_type": "code",
   "execution_count": 21,
   "metadata": {},
   "outputs": [
    {
     "data": {
      "text/plain": [
       "pickup_datetime      datetime64[ns, UTC]\n",
       "fare_amount                      float64\n",
       "fare_class                         int64\n",
       "pickup_longitude                 float64\n",
       "pickup_latitude                  float64\n",
       "dropoff_longitude                float64\n",
       "dropoff_latitude                 float64\n",
       "passenger_count                    int64\n",
       "distance_km                      float64\n",
       "date_timeEST         datetime64[ns, UTC]\n",
       "hours                           category\n",
       "weekday                         category\n",
       "AM_PM                           category\n",
       "dtype: object"
      ]
     },
     "execution_count": 21,
     "metadata": {},
     "output_type": "execute_result"
    }
   ],
   "source": [
    "df.dtypes"
   ]
  },
  {
   "cell_type": "code",
   "execution_count": 22,
   "metadata": {},
   "outputs": [],
   "source": [
    "#Creating a matrix of all categorical columns of all int index values for each category \n",
    "#e.g. weekdays will have 7 codes (0-6), hours will have 24 codes (0-23)\n",
    "cat_cols=np.stack([df[cat].cat.codes for cat in cats],axis=1)"
   ]
  },
  {
   "cell_type": "code",
   "execution_count": 23,
   "metadata": {},
   "outputs": [],
   "source": [
    "#creating index of continuous columns\n",
    "conts=['pickup_longitude',\n",
    "       'pickup_latitude', 'dropoff_longitude', 'dropoff_latitude',\n",
    "       'passenger_count', 'distance_km']"
   ]
  },
  {
   "cell_type": "code",
   "execution_count": 24,
   "metadata": {},
   "outputs": [],
   "source": [
    "cont_cols=np.stack([df[col].values for col in conts],axis=1)"
   ]
  },
  {
   "cell_type": "code",
   "execution_count": 25,
   "metadata": {},
   "outputs": [],
   "source": [
    "label=df['fare_amount'].values"
   ]
  },
  {
   "cell_type": "code",
   "execution_count": 26,
   "metadata": {},
   "outputs": [
    {
     "name": "stdout",
     "output_type": "stream",
     "text": [
      "category shape (120000, 3)\n",
      "continuous shape (120000, 6)\n"
     ]
    }
   ],
   "source": [
    "print('category shape',cat_cols.shape)\n",
    "print('continuous shape',cont_cols.shape)"
   ]
  },
  {
   "cell_type": "markdown",
   "metadata": {},
   "source": [
    "#### 5.Create tensors and embedding sizes for categorical data"
   ]
  },
  {
   "cell_type": "code",
   "execution_count": 27,
   "metadata": {},
   "outputs": [
    {
     "name": "stdout",
     "output_type": "stream",
     "text": [
      "category shape torch.Size([120000, 3])\n",
      "continuous shape torch.Size([120000, 6])\n"
     ]
    }
   ],
   "source": [
    "cat_tensor=torch.tensor(cat_cols,dtype=torch.long)\n",
    "cont_tensor=torch.tensor(cont_cols,dtype=torch.float)\n",
    "label_tensor=torch.tensor(label,dtype=torch.float)\n",
    "print('category shape',cat_tensor.shape)\n",
    "print('continuous shape',cont_tensor.shape)"
   ]
  },
  {
   "cell_type": "markdown",
   "metadata": {},
   "source": [
    "##### 5a. Creating the embedding object\n",
    "&nbsp;&nbsp; 1.  Creating embedding sizes : \n",
    "We need to create an embedding matrix of dimensions [original no.of cats, new numbers of cats] This is because we use only one-hotkey encoding, then the dimensions of each vector will by original no. of unique values of the categorical column which will be very large. Hence, we want to squeeze this to a more reasonable number of dimensions"
   ]
  },
  {
   "cell_type": "code",
   "execution_count": 28,
   "metadata": {},
   "outputs": [],
   "source": [
    "cat_len=[df[col].nunique() for col in cats]"
   ]
  },
  {
   "cell_type": "code",
   "execution_count": 29,
   "metadata": {},
   "outputs": [
    {
     "data": {
      "text/plain": [
       "[24, 7, 2]"
      ]
     },
     "execution_count": 29,
     "metadata": {},
     "output_type": "execute_result"
    }
   ],
   "source": [
    "cat_len"
   ]
  },
  {
   "cell_type": "code",
   "execution_count": 30,
   "metadata": {},
   "outputs": [],
   "source": [
    "embed_size=[(cat,min(50,int((cat+1)//2))) for cat in cat_len]"
   ]
  },
  {
   "cell_type": "code",
   "execution_count": 31,
   "metadata": {},
   "outputs": [
    {
     "data": {
      "text/plain": [
       "[(24, 12), (7, 4), (2, 1)]"
      ]
     },
     "execution_count": 31,
     "metadata": {},
     "output_type": "execute_result"
    }
   ],
   "source": [
    "embed_size"
   ]
  },
  {
   "cell_type": "code",
   "execution_count": 32,
   "metadata": {},
   "outputs": [],
   "source": [
    "cat_embeddings = [nn.Embedding(initial,target) for initial,target in embed_size]"
   ]
  },
  {
   "cell_type": "markdown",
   "metadata": {},
   "source": [
    "##### 5b. Trying to create an embedding matrix for the sample to see how it goes"
   ]
  },
  {
   "cell_type": "code",
   "execution_count": 33,
   "metadata": {},
   "outputs": [],
   "source": [
    "cat_sample=torch.tensor(cat_cols[:4,:],dtype=torch.long)"
   ]
  },
  {
   "cell_type": "code",
   "execution_count": 34,
   "metadata": {},
   "outputs": [
    {
     "name": "stdout",
     "output_type": "stream",
     "text": [
      "tensor([[ 4,  1,  0],\n",
      "        [11,  2,  0],\n",
      "        [ 7,  2,  0],\n",
      "        [17,  3,  1]])\n"
     ]
    }
   ],
   "source": [
    "print(cat_sample)"
   ]
  },
  {
   "cell_type": "code",
   "execution_count": 35,
   "metadata": {},
   "outputs": [
    {
     "data": {
      "text/plain": [
       "[Embedding(24, 12), Embedding(7, 4), Embedding(2, 1)]"
      ]
     },
     "execution_count": 35,
     "metadata": {},
     "output_type": "execute_result"
    }
   ],
   "source": [
    "cat_embeddings"
   ]
  },
  {
   "cell_type": "code",
   "execution_count": 36,
   "metadata": {},
   "outputs": [
    {
     "data": {
      "text/plain": [
       "Embedding(24, 12)"
      ]
     },
     "execution_count": 36,
     "metadata": {},
     "output_type": "execute_result"
    }
   ],
   "source": [
    "#Attempting only for the hours data - to convert a coded 24-dimension feature into an embedding\n",
    "embed_hour=cat_embeddings[0]\n",
    "embed_hour"
   ]
  },
  {
   "cell_type": "code",
   "execution_count": 37,
   "metadata": {},
   "outputs": [
    {
     "name": "stderr",
     "output_type": "stream",
     "text": [
      "<ipython-input-37-581f525cfd62>:2: UserWarning: To copy construct from a tensor, it is recommended to use sourceTensor.clone().detach() or sourceTensor.clone().detach().requires_grad_(True), rather than torch.tensor(sourceTensor).\n",
      "  test_hour=torch.tensor(cat_sample[:,0],dtype=torch.long)\n"
     ]
    }
   ],
   "source": [
    "#test sample of hours data\n",
    "test_hour=torch.tensor(cat_sample[:,0],dtype=torch.long)"
   ]
  },
  {
   "cell_type": "code",
   "execution_count": 38,
   "metadata": {},
   "outputs": [
    {
     "data": {
      "text/plain": [
       "tensor([ 4, 11,  7, 17])"
      ]
     },
     "execution_count": 38,
     "metadata": {},
     "output_type": "execute_result"
    }
   ],
   "source": [
    "test_hour"
   ]
  },
  {
   "cell_type": "code",
   "execution_count": 39,
   "metadata": {},
   "outputs": [
    {
     "name": "stdout",
     "output_type": "stream",
     "text": [
      "tensor([[-0.8622, -0.4589, -0.3882,  2.1875,  0.7319, -0.6826,  0.9976,  0.3093,\n",
      "         -0.5769,  0.3855,  2.0841, -0.6578],\n",
      "        [ 0.1719, -1.4984,  1.5151,  0.1399,  1.6173,  0.2143, -2.1506,  0.9505,\n",
      "         -1.2036,  1.2818, -0.9280, -0.1563],\n",
      "        [-1.4625,  0.1978,  0.4445, -1.5443,  0.1917,  0.5728,  1.5959,  0.5367,\n",
      "          1.0606, -0.8834,  0.3144,  0.3381],\n",
      "        [-0.5294,  1.0591, -0.5086, -0.3494, -0.4488, -0.6346, -0.9714, -0.6094,\n",
      "          1.7215,  0.1053,  1.5604, -0.4385]], grad_fn=<EmbeddingBackward>)\n"
     ]
    }
   ],
   "source": [
    "print(embed_hour(test_hour))\n",
    "#We see that a 24 dimension variable now has only 12, which is a victory!!"
   ]
  },
  {
   "cell_type": "code",
   "execution_count": 40,
   "metadata": {},
   "outputs": [],
   "source": [
    "#Now attempting the same for all features in cat_sample\n",
    "embeddings_test=[]\n",
    "for i, embed in enumerate(cat_embeddings):\n",
    "    embeddings_test.append(embed(cat_sample[:,i]))"
   ]
  },
  {
   "cell_type": "code",
   "execution_count": 41,
   "metadata": {},
   "outputs": [
    {
     "name": "stdout",
     "output_type": "stream",
     "text": [
      "hours\n",
      "torch.Size([4, 12])\n",
      "tensor([[-0.8622, -0.4589, -0.3882,  2.1875,  0.7319, -0.6826,  0.9976,  0.3093,\n",
      "         -0.5769,  0.3855,  2.0841, -0.6578],\n",
      "        [ 0.1719, -1.4984,  1.5151,  0.1399,  1.6173,  0.2143, -2.1506,  0.9505,\n",
      "         -1.2036,  1.2818, -0.9280, -0.1563],\n",
      "        [-1.4625,  0.1978,  0.4445, -1.5443,  0.1917,  0.5728,  1.5959,  0.5367,\n",
      "          1.0606, -0.8834,  0.3144,  0.3381],\n",
      "        [-0.5294,  1.0591, -0.5086, -0.3494, -0.4488, -0.6346, -0.9714, -0.6094,\n",
      "          1.7215,  0.1053,  1.5604, -0.4385]], grad_fn=<EmbeddingBackward>)\n",
      "weekday\n",
      "torch.Size([4, 4])\n",
      "tensor([[-0.1605, -0.9461,  0.6792,  0.6212],\n",
      "        [-0.7289,  0.9246, -0.9244,  0.9909],\n",
      "        [-0.7289,  0.9246, -0.9244,  0.9909],\n",
      "        [ 0.3013,  0.8733, -1.1197, -1.1564]], grad_fn=<EmbeddingBackward>)\n",
      "AM_PM\n",
      "torch.Size([4, 1])\n",
      "tensor([[ 0.9581],\n",
      "        [ 0.9581],\n",
      "        [ 0.9581],\n",
      "        [-1.6076]], grad_fn=<EmbeddingBackward>)\n"
     ]
    }
   ],
   "source": [
    "for i,e in enumerate(embeddings_test):\n",
    "    print(cats[i])\n",
    "    print(e.shape)\n",
    "    print(e)"
   ]
  },
  {
   "cell_type": "markdown",
   "metadata": {},
   "source": [
    "###### SUCCESS ON SAMPLE!!"
   ]
  },
  {
   "cell_type": "markdown",
   "metadata": {},
   "source": [
    "#### 6.Create model, optimizer and criterion"
   ]
  },
  {
   "cell_type": "code",
   "execution_count": 42,
   "metadata": {},
   "outputs": [
    {
     "data": {
      "text/plain": [
       "torch.Size([120000, 6])"
      ]
     },
     "execution_count": 42,
     "metadata": {},
     "output_type": "execute_result"
    }
   ],
   "source": [
    "cont_tensor.shape"
   ]
  },
  {
   "cell_type": "code",
   "execution_count": 43,
   "metadata": {},
   "outputs": [],
   "source": [
    "class Model(nn.Module):\n",
    "    def __init__(self,cat_cols,cont_cols,layer_count,output_features,embed_size_list,p=0.5): \n",
    "        '''\n",
    "        args:\n",
    "        cat_cols is the tensor of all categorical values (pre-embedding)\n",
    "        n_cont=number of continuous variables (for batch normalization)\n",
    "        cont_cols is the tensor of all continuous values\n",
    "        input_features - number of parameters of input\n",
    "        layer_count - a tuple of number of nodes of each hidden layer\n",
    "        output_features = number of outputs expected\n",
    "        embed_size_list is list of embedding sizes for the categorical values\n",
    "        p = basically, the % of nodes to be nullified during dropout layer\n",
    "       \n",
    "       Approach: In the constructor, create all the layers (Linear, ReLU, Batch and Dropout) for each hidden layer as per layer_count)\n",
    "       and add them to sequential(). Fwd() will have all the data manipulation and final embedding\n",
    "       \n",
    "        '''\n",
    "        super().__init__()\n",
    "        #self.input_features=input_features\n",
    "        self.output_features=output_features\n",
    "        self.layer_count=layer_count\n",
    "        self.embed_size_list=embed_size_list\n",
    "        #Create embeddings from categorical columns as seen in the test case\n",
    "        self.embeddings=[nn.Embedding(base_dim, target_dim) for base_dim, target_dim in embed_size_list]\n",
    "#         print(self.embeddings)\n",
    "        n_cont=cont_cols.shape[1]\n",
    "        self.batch_norm=nn.BatchNorm1d(n_cont)\n",
    "        self.dropout=nn.Dropout(p=0.5)\n",
    "        #To create the layers we need to start with input sizes\n",
    "        n_cont=cont_cols.shape[1]\n",
    "        #We need to find the total number of columns in the data. \n",
    "        #cat_cols currently only has 4 columns which post embedding will go to 23 \n",
    "        n_in=sum(nf for ni,nf in self.embed_size_list)+n_cont\n",
    "#         print('n_in',n_in)\n",
    "        self.layers=[]\n",
    "        for l in self.layer_count:\n",
    "            self.layers.append(nn.Linear(n_in,l))\n",
    "            self.layers.append(nn.ReLU(inplace=True))\n",
    "            self.layers.append(nn.Dropout(p))\n",
    "            self.layers.append(nn.BatchNorm1d(l))            \n",
    "            n_in=l\n",
    "        self.layers.append(nn.Linear(self.layer_count[-1],self.output_features))\n",
    "#         print(self.layers)\n",
    "        self.final_layers=nn.Sequential(*self.layers)\n",
    "#         print(self.final_layers)\n",
    "        \n",
    "    def forward(self,cat_cols, cont_cols):\n",
    "        '''\n",
    "        1. Create the embedding for cat and create one final input value for the forward path (only one time this gets created)\n",
    "        2. Create the dropout for this input layer\n",
    "        3. Create a batch norm for this layer\\\n",
    "        4. Pass this into the all the layers moving forward (starting with the first linear layer)\n",
    "        '''\n",
    "        #Creating the embedding for categorical columns\n",
    "        embeds=[]\n",
    "        for i,e in enumerate(self.embeddings):\n",
    "#             print('e' ,e)\n",
    "            embeds.append(e(cat_cols[:,i]))\n",
    "        cat_final=torch.cat(embeds,axis=1)\n",
    "#         print(cat_final.shape) #17 columns cos 12 for hours, 2 for AM/PM and 4 for days post embedding\n",
    "#         print(cont_cols.shape) # 6 columns one for each of the 6 features\n",
    "        \n",
    "        #Batch normalize the continuous variables first\n",
    "        cont_cols=self.batch_norm(cont_cols)\n",
    "        cat_final=self.dropout(cat_final)\n",
    "        self.X=torch.cat((cat_final, cont_cols),axis=1)\n",
    "#         print('X shape', self.X.shape)\n",
    "#         print('X dtype',self.X.dtype)\n",
    "#         print('X class',type(self.X))\n",
    "        #Dropout for the complete data set\n",
    "        #self.X=self.dropout(self.X)\n",
    "        self.X=self.final_layers(self.X)\n",
    "        return self.X\n",
    "            \n",
    "\n",
    "        #Creating final data set with cat and cols\n",
    "          \n",
    "        "
   ]
  },
  {
   "cell_type": "code",
   "execution_count": 44,
   "metadata": {},
   "outputs": [],
   "source": [
    "torch.manual_seed(33)\n",
    "model = Model(cat_tensor,cont_tensor,layer_count=[200,100],output_features=1,embed_size_list=embed_size,p=0.4)"
   ]
  },
  {
   "cell_type": "code",
   "execution_count": 45,
   "metadata": {},
   "outputs": [
    {
     "name": "stdout",
     "output_type": "stream",
     "text": [
      "tensor([[-0.5855],\n",
      "        [-0.8058],\n",
      "        [ 0.1915],\n",
      "        ...,\n",
      "        [-0.4630],\n",
      "        [ 0.1225],\n",
      "        [-0.0557]], grad_fn=<AddmmBackward>)\n"
     ]
    }
   ],
   "source": [
    "#Testing if forward() works\n",
    "z = model.forward(cat_tensor,cont_tensor)\n",
    "print(z)"
   ]
  },
  {
   "cell_type": "code",
   "execution_count": 46,
   "metadata": {},
   "outputs": [],
   "source": [
    "criterion=nn.MSELoss()"
   ]
  },
  {
   "cell_type": "code",
   "execution_count": 47,
   "metadata": {},
   "outputs": [],
   "source": [
    "optimizer=torch.optim.Adam(model.parameters(),lr=0.001)"
   ]
  },
  {
   "cell_type": "markdown",
   "metadata": {},
   "source": [
    "#### 7.Create train, test split"
   ]
  },
  {
   "cell_type": "markdown",
   "metadata": {},
   "source": [
    "Kaggle data set says that the data is already shuffled. If the data is not shuffled, then we need to do a train test split"
   ]
  },
  {
   "cell_type": "code",
   "execution_count": 48,
   "metadata": {},
   "outputs": [
    {
     "data": {
      "text/plain": [
       "(120000,)"
      ]
     },
     "execution_count": 48,
     "metadata": {},
     "output_type": "execute_result"
    }
   ],
   "source": [
    "label.shape"
   ]
  },
  {
   "cell_type": "code",
   "execution_count": 49,
   "metadata": {},
   "outputs": [
    {
     "name": "stdout",
     "output_type": "stream",
     "text": [
      "test size 24000\n",
      "train size 96000\n",
      "X_train_cont torch.Size([24000, 6])\n",
      "X_train_cat torch.Size([24000, 3])\n",
      "X_test_cont torch.Size([96000, 6])\n",
      "X_test_cat torch.Size([96000, 3])\n",
      "label_train torch.Size([24000, 1])\n",
      "label_test torch.Size([96000, 1])\n"
     ]
    }
   ],
   "source": [
    "test_size=int(0.2*df.shape[0])\n",
    "print('test size',test_size)\n",
    "print('train size',df.shape[0]-test_size)\n",
    "cat_cols\n",
    "X_train_cont=cont_tensor[:test_size,:]\n",
    "X_train_cat=cat_tensor[:test_size,:]\n",
    "X_test_cont=cont_tensor[test_size:,:]\n",
    "X_test_cat=cat_tensor[test_size:]\n",
    "label_train=label_tensor[:test_size].reshape(-1,1)\n",
    "label_test=label_tensor[test_size:].reshape(-1,1)\n",
    "print('X_train_cont',X_train_cont.shape)\n",
    "print('X_train_cat',X_train_cat.shape)\n",
    "print('X_test_cont',X_test_cont.shape)\n",
    "print('X_test_cat',X_test_cat.shape)\n",
    "print('label_train',label_train.shape)\n",
    "print('label_test',label_test.shape)"
   ]
  },
  {
   "cell_type": "markdown",
   "metadata": {},
   "source": [
    "#### 8. Building the train model"
   ]
  },
  {
   "cell_type": "code",
   "execution_count": 50,
   "metadata": {},
   "outputs": [
    {
     "name": "stdout",
     "output_type": "stream",
     "text": [
      " Loss at epoch 10 is 11.973340034484863\n",
      " Loss at epoch 20 is 11.446440696716309\n",
      " Loss at epoch 30 is 11.045608520507812\n",
      " Loss at epoch 40 is 10.684078216552734\n",
      " Loss at epoch 50 is 10.370415687561035\n",
      " Loss at epoch 60 is 10.076183319091797\n",
      " Loss at epoch 70 is 9.8255615234375\n",
      " Loss at epoch 80 is 9.548290252685547\n",
      " Loss at epoch 90 is 9.270340919494629\n",
      " Loss at epoch 100 is 8.994292259216309\n",
      " Loss at epoch 110 is 8.701070785522461\n",
      " Loss at epoch 120 is 8.375794410705566\n",
      " Loss at epoch 130 is 8.000714302062988\n",
      " Loss at epoch 140 is 7.601511001586914\n",
      " Loss at epoch 150 is 7.159296035766602\n",
      " Loss at epoch 160 is 6.678114891052246\n",
      " Loss at epoch 170 is 6.224819660186768\n",
      " Loss at epoch 180 is 5.713708400726318\n",
      " Loss at epoch 190 is 5.243253231048584\n",
      " Loss at epoch 200 is 4.778747081756592\n",
      " Loss at epoch 210 is 4.378846645355225\n",
      " Loss at epoch 220 is 4.063196182250977\n",
      " Loss at epoch 230 is 3.8786251544952393\n",
      " Loss at epoch 240 is 3.6867034435272217\n",
      " Loss at epoch 250 is 3.6485307216644287\n",
      " Loss at epoch 260 is 3.5889039039611816\n",
      " Loss at epoch 270 is 3.581583023071289\n",
      " Loss at epoch 280 is 3.567286252975464\n",
      " Loss at epoch 290 is 3.5726301670074463\n",
      " Loss at epoch 300 is 3.540520429611206\n"
     ]
    }
   ],
   "source": [
    "epochs=300\n",
    "losses3=[]\n",
    "for e in range(epochs):\n",
    "    e+=1\n",
    "    y_pred=model.forward(X_train_cat,X_train_cont)\n",
    "    loss=criterion(y_pred,label_train)**0.5\n",
    "    losses3.append(loss)\n",
    "    if e%10==0:\n",
    "        print(f' Loss at epoch {e} is {loss}')\n",
    "    \n",
    "    optimizer.zero_grad()\n",
    "    loss.backward()\n",
    "    optimizer.step()\n",
    "    "
   ]
  },
  {
   "cell_type": "code",
   "execution_count": 52,
   "metadata": {},
   "outputs": [
    {
     "data": {
      "image/png": "[encoded data removed]",
      "text/plain": [
       "<Figure size 432x288 with 1 Axes>"
      ]
     },
     "metadata": {
      "needs_background": "light"
     },
     "output_type": "display_data"
    }
   ],
   "source": [
    "plt.plot(range(epochs),losses3,'b')\n",
    "plt.xlabel('Epochs')\n",
    "plt.ylabel('Losses')\n",
    "plt.title('Loss for lr=0.1 (red) and lr=0.001 (green)')\n",
    "plt.show()\n"
   ]
  },
  {
   "cell_type": "markdown",
   "metadata": {},
   "source": [
    "#### 9. Running on test data"
   ]
  },
  {
   "cell_type": "code",
   "execution_count": 53,
   "metadata": {},
   "outputs": [],
   "source": [
    "with torch.no_grad():\n",
    "    y_preds=model.forward(X_test_cat,X_test_cont)"
   ]
  },
  {
   "cell_type": "code",
   "execution_count": 54,
   "metadata": {},
   "outputs": [
    {
     "data": {
      "text/plain": [
       "tensor(3.5872)"
      ]
     },
     "execution_count": 54,
     "metadata": {},
     "output_type": "execute_result"
    }
   ],
   "source": [
    "loss_test=criterion(y_preds, label_test)\n",
    "loss_test**0.5"
   ]
  },
  {
   "cell_type": "markdown",
   "metadata": {},
   "source": [
    "#### 10. Analysing the error spread"
   ]
  },
  {
   "cell_type": "code",
   "execution_count": 55,
   "metadata": {},
   "outputs": [],
   "source": [
    "error=(y_preds-label_test).numpy()"
   ]
  },
  {
   "cell_type": "code",
   "execution_count": 56,
   "metadata": {
    "scrolled": true
   },
   "outputs": [
    {
     "name": "stdout",
     "output_type": "stream",
     "text": [
      "                  0\n",
      "count  96000.000000\n",
      "mean      -0.174317\n",
      "std        3.582977\n",
      "min      -51.335407\n",
      "25%       -1.369182\n",
      "50%        0.111890\n",
      "75%        1.467132\n",
      "max       63.726105\n",
      "Mean of error is  -0.1743\n",
      "Std dev of error is   3.5830\n",
      "Range of error is 115.0615\n",
      "Max of error is  63.7261 at sample 48310\n",
      "Max of error is -51.3354 at sample 47838\n"
     ]
    },
    {
     "data": {
      "image/png": "[encoded data removed]",
      "text/plain": [
       "<Figure size 432x288 with 1 Axes>"
      ]
     },
     "metadata": {
      "needs_background": "light"
     },
     "output_type": "display_data"
    }
   ],
   "source": [
    "print(pd.DataFrame(error).describe())\n",
    "print('Mean of error is {:8.4f}'.format(error.mean() ))\n",
    "print('Std dev of error is {:8.4f}'.format(error.std()))\n",
    "print('Range of error is {:8.4f}'.format(error.max()-error.min()))\n",
    "print('Max of error is {:8.4f} at sample {}'.format(error.max(), (error.argmax())))\n",
    "print('Max of error is {:8.4f} at sample {}'.format(error.min(), (error.argmin())))\n",
    "plt.hist(error)\n",
    "plt.title('Distribution of the error variable for test case')\n",
    "plt.show()"
   ]
  },
  {
   "cell_type": "code",
   "execution_count": 57,
   "metadata": {},
   "outputs": [],
   "source": [
    "one_std_dev_p=error.mean()+error.std()\n",
    "one_std_dev_n=error.mean()-error.std()\n",
    "ranges=((error<=one_std_dev_p) & (error>=one_std_dev_n)).sum()"
   ]
  },
  {
   "cell_type": "code",
   "execution_count": 58,
   "metadata": {},
   "outputs": [
    {
     "name": "stdout",
     "output_type": "stream",
     "text": [
      "% of error within one standard deviation on either side is:   86.910%\n"
     ]
    }
   ],
   "source": [
    "print('% of error within one standard deviation on either side is: {:8.3f}%'.format(ranges/len(error)*100))"
   ]
  },
  {
   "cell_type": "markdown",
   "metadata": {},
   "source": [
    "#### 11. Saving the model"
   ]
  },
  {
   "cell_type": "code",
   "execution_count": 60,
   "metadata": {},
   "outputs": [],
   "source": [
    "if len(losses3)==epochs:\n",
    "    torch.save(model.state_dict(),'uber_model_weights.pt')\n",
    "    torch.save(model,'uber_model.pkl')\n",
    "else:\n",
    "    print(\"You haven't trained this model! Only trained models should be saved!\")"
   ]
  },
  {
   "cell_type": "markdown",
   "metadata": {},
   "source": [
    "#### 12. Create program to directly run data transformation and through model"
   ]
  },
  {
   "cell_type": "markdown",
   "metadata": {},
   "source": [
    "<b> Refer Solution Part 2.ipynb </b>"
   ]
  },
  {
   "cell_type": "code",
   "execution_count": null,
   "metadata": {},
   "outputs": [],
   "source": []
  }
 ],
 "metadata": {
  "kernelspec": {
   "display_name": "Python 3",
   "language": "python",
   "name": "python3"
  },
  "language_info": {
   "codemirror_mode": {
    "name": "ipython",
    "version": 3
   },
   "file_extension": ".py",
   "mimetype": "text/x-python",
   "name": "python",
   "nbconvert_exporter": "python",
   "pygments_lexer": "ipython3",
   "version": "3.8.5"
  }
 },
 "nbformat": 4,
 "nbformat_minor": 4
}
